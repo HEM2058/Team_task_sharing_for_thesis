{
  "nbformat": 4,
  "nbformat_minor": 0,
  "metadata": {
    "colab": {
      "provenance": [],
      "mount_file_id": "1fvCgQopoYhGQ8pkOHTSmKa66KMpJLlWu",
      "authorship_tag": "ABX9TyP7ZFUrsz7SpJ4t5i2AtcDq",
      "include_colab_link": true
    },
    "kernelspec": {
      "name": "python3",
      "display_name": "Python 3"
    },
    "language_info": {
      "name": "python"
    }
  },
  "cells": [
    {
      "cell_type": "markdown",
      "metadata": {
        "id": "view-in-github",
        "colab_type": "text"
      },
      "source": [
        "<a href=\"https://colab.research.google.com/github/HEM2058/Team_task_sharing_for_thesis/blob/main/NetworkAnalysis.ipynb\" target=\"_parent\"><img src=\"https://colab.research.google.com/assets/colab-badge.svg\" alt=\"Open In Colab\"/></a>"
      ]
    },
    {
      "cell_type": "code",
      "execution_count": 1,
      "metadata": {
        "colab": {
          "base_uri": "https://localhost:8080/"
        },
        "id": "hreiRiLIAce-",
        "outputId": "95d58cbe-a3a0-4f9a-9f25-c2db4ae11d00"
      },
      "outputs": [
        {
          "output_type": "stream",
          "name": "stderr",
          "text": [
            "WARNING:fiona._env:Several features with id = 1 have been found. Altering it to be unique. This warning will not be emitted anymore for this layer\n"
          ]
        },
        {
          "output_type": "stream",
          "name": "stdout",
          "text": [
            "Unique Geometry Types: ['Polygon' 'MultiLineString']\n"
          ]
        }
      ],
      "source": [
        "import geopandas as gpd\n",
        "\n",
        "# Load GeoJSON file into a GeoDataFrame\n",
        "file_path = \"/content/drive/MyDrive/Network Analysis/waterpipelinegeo.geojson\"\n",
        "gdf = gpd.read_file(file_path)\n",
        "\n",
        "# Check unique values in the \"geometry\" column\n",
        "unique_geometry_types = gdf[\"geometry\"].geom_type.unique()\n",
        "\n",
        "# Print the unique geometry types\n",
        "print(\"Unique Geometry Types:\", unique_geometry_types)\n"
      ]
    },
    {
      "cell_type": "code",
      "source": [],
      "metadata": {
        "id": "rPjvA0FyCSa8"
      },
      "execution_count": null,
      "outputs": []
    }
  ]
}